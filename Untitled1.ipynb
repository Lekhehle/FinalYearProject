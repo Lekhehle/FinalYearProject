{
 "cells": [
  {
   "cell_type": "code",
   "execution_count": 1,
   "id": "491c9a04",
   "metadata": {},
   "outputs": [],
   "source": [
    "# Importing the libraries\n",
    "import numpy as np\n",
    "import pandas as pd\n",
    "from sklearn.model_selection import train_test_split\n",
    "from sklearn.preprocessing import LabelEncoder, StandardScaler\n",
    "import tensorflow as tf\n",
    "import pickle\n",
    "\n",
    "# Importing the dataset\n",
    "dataset = pd.read_csv('C:\\\\Users\\\\USER\\\\Documents\\\\YEAR 4\\\\2024 SEMESTER A\\\\Webpage Phishing Detector System\\\\PhiUSIIL_Phishing_URL_Dataset.csv', sep=',')\n"
   ]
  },
  {
   "cell_type": "code",
   "execution_count": 2,
   "id": "3dc836da",
   "metadata": {},
   "outputs": [],
   "source": [
    "from urllib.parse import urlparse"
   ]
  },
  {
   "cell_type": "code",
   "execution_count": 3,
   "id": "f60cb053",
   "metadata": {},
   "outputs": [
    {
     "name": "stdout",
     "output_type": "stream",
     "text": [
      "   url_length  num_dots  contains_https  num_special_chars  num_digits  \\\n",
      "0          32         2               1                  3           0   \n",
      "1          24         2               1                  4           0   \n",
      "2          30         3               1                  3           0   \n",
      "3          27         2               1                  3           0   \n",
      "4          34         2               1                  3           0   \n",
      "\n",
      "   has_ip_in_domain  domain_length  num_subdomains  has_shortening_service  \\\n",
      "0                 0             24               2                       0   \n",
      "1                 0             16               2                       0   \n",
      "2                 0             22               3                       0   \n",
      "3                 0             19               2                       0   \n",
      "4                 0             26               2                       0   \n",
      "\n",
      "   obfuscation_ratio  label  \n",
      "0           0.093750      1  \n",
      "1           0.166667      1  \n",
      "2           0.100000      1  \n",
      "3           0.111111      1  \n",
      "4           0.088235      1  \n"
     ]
    }
   ],
   "source": [
    "dataset_features = pd.DataFrame()  \n",
    "dataset_features['url_length'] = dataset['URL'].apply(len)  \n",
    "dataset_features['num_dots'] = dataset['URL'].apply(lambda x: x.count('.'))  \n",
    "dataset_features['contains_https'] = dataset['URL'].apply(lambda x: 1 if 'https' in x else 0)  \n",
    "dataset_features['num_special_chars'] = dataset['URL'].apply(lambda x: sum([1 for char in x if not char.isalnum() and char != '.']))  \n",
    "dataset_features['num_digits'] = dataset['URL'].apply(lambda x: sum(c.isdigit() for c in x))  \n",
    "dataset_features['has_ip_in_domain'] = dataset['Domain'].apply(lambda x: 1 if any(c.isdigit() for c in x) else 0)  \n",
    "dataset_features['domain_length'] = dataset['Domain'].apply(len)  \n",
    "dataset_features['num_subdomains'] = dataset['Domain'].apply(lambda x: x.count('.'))  \n",
    "dataset_features['has_shortening_service'] = dataset['URL'].apply(lambda x: 1 if 'bit.ly' in x or 'goo.gl' in x else 0)  \n",
    "dataset_features['obfuscation_ratio'] = dataset['URL'].apply(lambda x: sum([1 for char in x if not char.isalnum() and char != '.']) / len(x))  \n",
    "\n",
    "dataset_features['label'] = dataset['label']  \n",
    " \n",
    "print(dataset_features.head())\n"
   ]
  },
  {
   "cell_type": "code",
   "execution_count": 4,
   "id": "89a13f7c",
   "metadata": {},
   "outputs": [],
   "source": [
    "from sklearn.model_selection import train_test_split\n",
    "from sklearn.preprocessing import StandardScaler\n",
    "X = dataset_features.drop(columns=['label'])  \n",
    "y = dataset_features['label']  \n",
    "X_train, X_test, y_train, y_test = train_test_split(X, y, test_size=0.2, random_state=0)\n",
    "\n"
   ]
  },
  {
   "cell_type": "code",
   "execution_count": 5,
   "id": "99059724",
   "metadata": {},
   "outputs": [],
   "source": [
    "# Feature Scaling\n",
    "scaler = StandardScaler()\n",
    "X_train_scaled = scaler.fit_transform(X_train)\n",
    "X_test_scaled = scaler.transform(X_test)"
   ]
  },
  {
   "cell_type": "code",
   "execution_count": 6,
   "id": "429dfe31",
   "metadata": {},
   "outputs": [
    {
     "name": "stdout",
     "output_type": "stream",
     "text": [
      "url_length                0\n",
      "num_dots                  0\n",
      "contains_https            0\n",
      "num_special_chars         0\n",
      "num_digits                0\n",
      "has_ip_in_domain          0\n",
      "domain_length             0\n",
      "num_subdomains            0\n",
      "has_shortening_service    0\n",
      "obfuscation_ratio         0\n",
      "label                     0\n",
      "dtype: int64\n"
     ]
    }
   ],
   "source": [
    "print(dataset_features.isnull().sum())\n"
   ]
  },
  {
   "cell_type": "code",
   "execution_count": 7,
   "id": "ac47d53f",
   "metadata": {},
   "outputs": [
    {
     "name": "stderr",
     "output_type": "stream",
     "text": [
      "C:\\Users\\USER\\Documents\\AnacondaT\\envs\\my-env\\lib\\site-packages\\sklearn\\linear_model\\_logistic.py:818: ConvergenceWarning: lbfgs failed to converge (status=1):\n",
      "STOP: TOTAL NO. of ITERATIONS REACHED LIMIT.\n",
      "\n",
      "Increase the number of iterations (max_iter) or scale the data as shown in:\n",
      "    https://scikit-learn.org/stable/modules/preprocessing.html\n",
      "Please also refer to the documentation for alternative solver options:\n",
      "    https://scikit-learn.org/stable/modules/linear_model.html#logistic-regression\n",
      "  extra_warning_msg=_LOGISTIC_SOLVER_CONVERGENCE_MSG,\n"
     ]
    },
    {
     "data": {
      "text/plain": [
       "LogisticRegression(random_state=0)"
      ]
     },
     "execution_count": 7,
     "metadata": {},
     "output_type": "execute_result"
    }
   ],
   "source": [
    "from sklearn.linear_model import LogisticRegression\n",
    "from sklearn.metrics import accuracy_score, classification_report, confusion_matrix\n",
    "classifier = LogisticRegression(random_state=0)\n",
    "classifier.fit(X_train_scaled, y_train)"
   ]
  },
  {
   "cell_type": "code",
   "execution_count": 8,
   "id": "831b854e",
   "metadata": {},
   "outputs": [],
   "source": [
    "y_pred = classifier.predict(X_test_scaled)"
   ]
  },
  {
   "cell_type": "code",
   "execution_count": 9,
   "id": "b17dd232",
   "metadata": {},
   "outputs": [
    {
     "name": "stdout",
     "output_type": "stream",
     "text": [
      "Accuracy: 0.9796857439725185\n",
      "[[19463   737]\n",
      " [  221 26738]]\n"
     ]
    }
   ],
   "source": [
    "print(f\"Accuracy: {accuracy_score(y_test, y_pred)}\")\n",
    "print(confusion_matrix(y_test, y_pred))"
   ]
  },
  {
   "cell_type": "code",
   "execution_count": 10,
   "id": "b5b6963e",
   "metadata": {},
   "outputs": [
    {
     "name": "stdout",
     "output_type": "stream",
     "text": [
      "Accuracy: 0.98\n"
     ]
    }
   ],
   "source": [
    "accuracy = accuracy_score(y_test, y_pred)\n",
    "print(f\"Accuracy: {accuracy:.2f}\")\n"
   ]
  },
  {
   "cell_type": "code",
   "execution_count": 11,
   "id": "83a4e9c1",
   "metadata": {},
   "outputs": [
    {
     "ename": "FileNotFoundError",
     "evalue": "[Errno 2] No such file or directory: 'C:\\\\Users\\\\USER\\\\Documents\\\\YEAR 4\\\\FinalYearProject\\\\extension\\\\model.pkl'",
     "output_type": "error",
     "traceback": [
      "\u001b[1;31m---------------------------------------------------------------------------\u001b[0m",
      "\u001b[1;31mFileNotFoundError\u001b[0m                         Traceback (most recent call last)",
      "\u001b[1;32m~\\AppData\\Local\\Temp\\ipykernel_9596\\1276542605.py\u001b[0m in \u001b[0;36m<module>\u001b[1;34m\u001b[0m\n\u001b[0;32m      3\u001b[0m \u001b[0mscaler_path\u001b[0m \u001b[1;33m=\u001b[0m \u001b[1;34mr\"C:\\Users\\USER\\Documents\\YEAR 4\\FinalYearProject\\extension\\scaler.pkl\"\u001b[0m\u001b[1;33m\u001b[0m\u001b[1;33m\u001b[0m\u001b[0m\n\u001b[0;32m      4\u001b[0m \u001b[1;33m\u001b[0m\u001b[0m\n\u001b[1;32m----> 5\u001b[1;33m \u001b[1;32mwith\u001b[0m \u001b[0mopen\u001b[0m\u001b[1;33m(\u001b[0m\u001b[0mmodel_path\u001b[0m\u001b[1;33m,\u001b[0m \u001b[1;34m'wb'\u001b[0m\u001b[1;33m)\u001b[0m \u001b[1;32mas\u001b[0m \u001b[0mmodel_file\u001b[0m\u001b[1;33m:\u001b[0m\u001b[1;33m\u001b[0m\u001b[1;33m\u001b[0m\u001b[0m\n\u001b[0m\u001b[0;32m      6\u001b[0m     \u001b[0mpickle\u001b[0m\u001b[1;33m.\u001b[0m\u001b[0mdump\u001b[0m\u001b[1;33m(\u001b[0m\u001b[0mclassifier\u001b[0m\u001b[1;33m,\u001b[0m \u001b[0mmodel_file\u001b[0m\u001b[1;33m)\u001b[0m\u001b[1;33m\u001b[0m\u001b[1;33m\u001b[0m\u001b[0m\n\u001b[0;32m      7\u001b[0m \u001b[1;33m\u001b[0m\u001b[0m\n",
      "\u001b[1;31mFileNotFoundError\u001b[0m: [Errno 2] No such file or directory: 'C:\\\\Users\\\\USER\\\\Documents\\\\YEAR 4\\\\FinalYearProject\\\\extension\\\\model.pkl'"
     ]
    }
   ],
   "source": [
    "# **Save Model & Scaler**\n",
    "model_path = r\"C:\\Users\\USER\\Documents\\YEAR 4\\FinalYearProject\\extension\\model.pkl\"\n",
    "scaler_path = r\"C:\\Users\\USER\\Documents\\YEAR 4\\FinalYearProject\\extension\\scaler.pkl\"\n",
    "\n",
    "with open(model_path, 'wb') as model_file:\n",
    "    pickle.dump(classifier, model_file)\n",
    "\n",
    "with open(scaler_path, 'wb') as scaler_file:\n",
    "    pickle.dump(scaler, scaler_file)\n",
    "\n",
    "print(\"Model and scaler saved successfully!\")\n"
   ]
  },
  {
   "cell_type": "code",
   "execution_count": null,
   "id": "d0f62fab",
   "metadata": {},
   "outputs": [],
   "source": []
  },
  {
   "cell_type": "code",
   "execution_count": null,
   "id": "f3f1dd1a",
   "metadata": {},
   "outputs": [],
   "source": []
  }
 ],
 "metadata": {
  "kernelspec": {
   "display_name": "Python 3 (ipykernel)",
   "language": "python",
   "name": "python3"
  },
  "language_info": {
   "codemirror_mode": {
    "name": "ipython",
    "version": 3
   },
   "file_extension": ".py",
   "mimetype": "text/x-python",
   "name": "python",
   "nbconvert_exporter": "python",
   "pygments_lexer": "ipython3",
   "version": "3.7.16"
  }
 },
 "nbformat": 4,
 "nbformat_minor": 5
}
